{
 "cells": [
  {
   "cell_type": "code",
   "execution_count": 1,
   "id": "0e435a5f",
   "metadata": {},
   "outputs": [],
   "source": [
    "import pandas as pd\n",
    "import os\n"
   ]
  },
  {
   "cell_type": "code",
   "execution_count": 2,
   "id": "141e4efc",
   "metadata": {},
   "outputs": [],
   "source": [
    "player_files = [\n",
    "    \"Game_Logs_Runningback.csv\",\n",
    "    \"Game_Logs_Wide_Receiver_And_Tight_End.csv\",\n",
    "    \"Game_Logs_Defensive_Lineman.csv\",\n",
    "    \"Game_Logs_Kickers.csv\",\n",
    "    \"Game_Logs_Offensive_Line.csv\",\n",
    "    \"Game_Logs_Punters.csv\",\n",
    "    \"Game_Logs_QuarterBack.csv\",\n",
    "    \"Career_Stats_Rushing.csv\",\n",
    "    \"Career_Stats_Passing.csv\",\n",
    "    \"Career_Stats_Punt_Return.csv\",\n",
    "    \"Career_Stats_Punting.csv\",\n",
    "    \"Career_Stats_Receiving.csv\",\n",
    "    \"Career_Stats_Kickoff.csv\",\n",
    "    \"Career_Stats_Offensive_Line.csv\",\n",
    "    \"Career_Stats_Defensive.csv\",\n",
    "    \"Career_Stats_Field_Goal_Kickers.csv\",\n",
    "    \"Career_Stats_Fumbles.csv\",\n",
    "    \"Career_Stats_Kick_Return.csv\",\n",
    "    \"Basic_Stats.csv\"\n",
    "]"
   ]
  },
  {
   "cell_type": "code",
   "execution_count": 6,
   "id": "c4abbf9c",
   "metadata": {},
   "outputs": [],
   "source": [
    "base_path = \"C:/Users/ndon2/Downloads/FootballPlayers/\"\n"
   ]
  },
  {
   "cell_type": "code",
   "execution_count": 12,
   "id": "dfa675f4",
   "metadata": {},
   "outputs": [],
   "source": [
    "player_dfs = [pd.read_csv(base_path + f) for f in player_files]\n",
    "FootballPlayers = pd.concat(player_dfs, ignore_index=True)\n"
   ]
  },
  {
   "cell_type": "code",
   "execution_count": 13,
   "id": "b6395eb0",
   "metadata": {},
   "outputs": [],
   "source": [
    "teams = pd.read_csv(\"C:/Users/ndon2/Downloads/FootballPlayers/nfl_teams.csv\")\n",
    "scores = pd.read_csv(\"C:/Users/ndon2/Downloads/FootballPlayers/spreadspoke_scores.csv\")"
   ]
  },
  {
   "cell_type": "code",
   "execution_count": 14,
   "id": "5606b246",
   "metadata": {},
   "outputs": [],
   "source": [
    "teams['key'] = 1\n",
    "scores['key'] = 1\n",
    "TeamData = pd.merge(teams, scores, on='key').drop(columns='key')\n",
    "file_names = [\n",
    "    \"Career_Stats_Passing.csv\",\n",
    "    \"Game_Logs_Quarterback.csv\",\n",
    "    \"Game_Logs_Runningback.csv\",\n",
    "    \"Basic_Stats.csv\"\n",
    "]"
   ]
  },
  {
   "cell_type": "code",
   "execution_count": null,
   "id": "501b9536",
   "metadata": {},
   "outputs": [],
   "source": [
    "for file_name in file_names:\n",
    "    file_path = os.path.join(base_path, file_name)\n",
    "    df = pd.read_csv(file_path)\n",
    "    df_cleaned = df.dropna(axis=1, how='all')  \n",
    "    df_cleaned.to_csv(file_path, index=False)  "
   ]
  }
 ],
 "metadata": {
  "kernelspec": {
   "display_name": "Python 3",
   "language": "python",
   "name": "python3"
  },
  "language_info": {
   "codemirror_mode": {
    "name": "ipython",
    "version": 3
   },
   "file_extension": ".py",
   "mimetype": "text/x-python",
   "name": "python",
   "nbconvert_exporter": "python",
   "pygments_lexer": "ipython3",
   "version": "3.11.9"
  }
 },
 "nbformat": 4,
 "nbformat_minor": 5
}
