{
 "cells": [
  {
   "cell_type": "code",
   "execution_count": null,
   "metadata": {},
   "outputs": [],
   "source": [
    "from sklearn.preprocessing import MinMaxScaler\n",
    "from sklearn.metrics.pairwise import euclidean_distances\n",
    "import numpy as np\n",
    "import requests\n",
    "from bs4 import BeautifulSoup\n",
    "import pandas as pd\n",
    "import networkx as nx\n",
    "import matplotlib.pyplot as plt\n"
   ]
  },
  {
   "cell_type": "code",
   "execution_count": 6,
   "metadata": {},
   "outputs": [
    {
     "ename": "NameError",
     "evalue": "name 'pd' is not defined",
     "output_type": "error",
     "traceback": [
      "\u001b[31m---------------------------------------------------------------------------\u001b[39m",
      "\u001b[31mNameError\u001b[39m                                 Traceback (most recent call last)",
      "\u001b[36mCell\u001b[39m\u001b[36m \u001b[39m\u001b[32mIn[6]\u001b[39m\u001b[32m, line 2\u001b[39m\n\u001b[32m      1\u001b[39m \u001b[38;5;66;03m# Reload the dataset\u001b[39;00m\n\u001b[32m----> \u001b[39m\u001b[32m2\u001b[39m spotify_df = \u001b[43mpd\u001b[49m.read_csv(\u001b[33m\"\u001b[39m\u001b[33mhigh_popularity_spotify_data.csv\u001b[39m\u001b[33m\"\u001b[39m)\n\u001b[32m      4\u001b[39m \u001b[38;5;66;03m# Select numerical features for similarity analysis\u001b[39;00m\n\u001b[32m      5\u001b[39m features = [\n\u001b[32m      6\u001b[39m     \u001b[33m\"\u001b[39m\u001b[33menergy\u001b[39m\u001b[33m\"\u001b[39m, \u001b[33m\"\u001b[39m\u001b[33mdanceability\u001b[39m\u001b[33m\"\u001b[39m, \u001b[33m\"\u001b[39m\u001b[33mvalence\u001b[39m\u001b[33m\"\u001b[39m, \u001b[33m\"\u001b[39m\u001b[33macousticness\u001b[39m\u001b[33m\"\u001b[39m, \n\u001b[32m      7\u001b[39m     \u001b[33m\"\u001b[39m\u001b[33mspeechiness\u001b[39m\u001b[33m\"\u001b[39m, \u001b[33m\"\u001b[39m\u001b[33minstrumentalness\u001b[39m\u001b[33m\"\u001b[39m, \u001b[33m\"\u001b[39m\u001b[33mtempo\u001b[39m\u001b[33m\"\u001b[39m, \u001b[33m\"\u001b[39m\u001b[33mloudness\u001b[39m\u001b[33m\"\u001b[39m\n\u001b[32m      8\u001b[39m ]\n",
      "\u001b[31mNameError\u001b[39m: name 'pd' is not defined"
     ]
    }
   ],
   "source": [
    "# Reload the dataset\n",
    "spotify_df = pd.read_csv(\"high_popularity_spotify_data.csv\")\n",
    "\n",
    "# Select numerical features for similarity analysis\n",
    "features = [\n",
    "    \"energy\", \"danceability\", \"valence\", \"acousticness\", \n",
    "    \"speechiness\", \"instrumentalness\", \"tempo\", \"loudness\"\n",
    "]\n",
    "\n",
    "# Drop rows with missing values in selected features\n",
    "spotify_df_clean = spotify_df.dropna(subset=features)\n"
   ]
  },
  {
   "cell_type": "code",
   "execution_count": null,
   "metadata": {},
   "outputs": [],
   "source": [
    "# Normalize features using Min-Max scaling\n",
    "scaler = MinMaxScaler()\n",
    "scaled_features = scaler.fit_transform(spotify_df_clean[features])\n",
    "\n",
    "# Add scaled features back into DataFrame for reference\n",
    "scaled_df = pd.DataFrame(scaled_features, columns=[f\"{col}_scaled\" for col in features])\n",
    "spotify_df_scaled = pd.concat([spotify_df_clean.reset_index(drop=True), scaled_df], axis=1)\n",
    "\n",
    "# Set up query indices (choosing 3 distinct songs)\n",
    "query_indices = [1, 3, 5]\n",
    "queries = spotify_df_scaled.iloc[query_indices]"
   ]
  },
  {
   "cell_type": "code",
   "execution_count": null,
   "metadata": {},
   "outputs": [],
   "source": [
    "# Compute pairwise distances\n",
    "dist_matrix = euclidean_distances(scaled_features)\n",
    "\n",
    "# Find top 10 most similar tracks for each query (excluding itself)\n",
    "similar_tracks = {}\n",
    "for idx in query_indices:\n",
    "    distances = dist_matrix[idx]\n",
    "    similar_indices = np.argsort(distances)[1:11]  # skip index 0 (itself)\n",
    "    similar_tracks[idx] = spotify_df_scaled.iloc[similar_indices][[\"track_artist\", \"energy\", \"danceability\", \"valence\", \"loudness\"]]\n",
    "\n",
    "# Package the results for display\n",
    "query_results = {\n",
    "    spotify_df_scaled.iloc[idx][\"track_artist\"]: similar_tracks[idx].reset_index(drop=True)\n",
    "    for idx in query_indices\n",
    "}"
   ]
  }
 ],
 "metadata": {
  "kernelspec": {
   "display_name": "Python 3",
   "language": "python",
   "name": "python3"
  },
  "language_info": {
   "codemirror_mode": {
    "name": "ipython",
    "version": 3
   },
   "file_extension": ".py",
   "mimetype": "text/x-python",
   "name": "python",
   "nbconvert_exporter": "python",
   "pygments_lexer": "ipython3",
   "version": "3.11.9"
  }
 },
 "nbformat": 4,
 "nbformat_minor": 2
}
