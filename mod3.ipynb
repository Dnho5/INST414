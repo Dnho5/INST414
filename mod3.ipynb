{
 "cells": [
  {
   "cell_type": "code",
   "execution_count": null,
   "metadata": {},
   "outputs": [],
   "source": [
    "from sklearn.preprocessing import MinMaxScaler\n",
    "from sklearn.metrics.pairwise import euclidean_distances\n",
    "import numpy as np\n",
    "import requests\n",
    "from bs4 import BeautifulSoup\n",
    "import pandas as pd\n",
    "import networkx as nx\n",
    "import matplotlib.pyplot as plt\n"
   ]
  },
  {
   "cell_type": "code",
   "execution_count": null,
   "metadata": {},
   "outputs": [],
   "source": [
    "# Reload the dataset\n",
    "spotify_df = pd.read_csv(\"high_popularity_spotify_data.csv\")\n",
    "\n",
    "# Select numerical features for similarity analysis\n",
    "features = [\n",
    "    \"energy\", \"danceability\", \"valence\", \"acousticness\", \n",
    "    \"speechiness\", \"instrumentalness\", \"tempo\", \"loudness\"\n",
    "]\n",
    "\n",
    "# Drop rows with missing values in selected features\n",
    "spotify_df_clean = spotify_df.dropna(subset=features)\n"
   ]
  },
  {
   "cell_type": "code",
   "execution_count": null,
   "metadata": {},
   "outputs": [],
   "source": [
    "# Normalize features using Min-Max scaling\n",
    "scaler = MinMaxScaler()\n",
    "scaled_features = scaler.fit_transform(spotify_df_clean[features])\n",
    "\n",
    "# Add scaled features back into DataFrame for reference\n",
    "scaled_df = pd.DataFrame(scaled_features, columns=[f\"{col}_scaled\" for col in features])\n",
    "spotify_df_scaled = pd.concat([spotify_df_clean.reset_index(drop=True), scaled_df], axis=1)\n",
    "\n",
    "# Set up query indices (choosing 3 distinct songs)\n",
    "query_indices = [1, 3, 5]\n",
    "queries = spotify_df_scaled.iloc[query_indices]"
   ]
  },
  {
   "cell_type": "code",
   "execution_count": 7,
   "metadata": {},
   "outputs": [
    {
     "name": "stdout",
     "output_type": "stream",
     "text": [
      "\n",
      "Top 10 Similar Songs to: Billie Eilish\n",
      "               track_artist  energy  danceability  valence  loudness\n",
      "              Billie Eilish   0.507         0.747    0.438   -10.171\n",
      "              Billie Eilish   0.507         0.747    0.438   -10.171\n",
      "    FloyyMenor, Lewis Somes   0.496         0.696    0.476    -7.532\n",
      "                      Drake   0.463         0.809    0.364   -11.377\n",
      "              Bryson Tiller   0.512         0.803    0.435    -6.871\n",
      "Tiakola, Genezio, Prototype   0.569         0.772    0.525    -7.006\n",
      "                    YEONJUN   0.557         0.815    0.482    -7.166\n",
      "           P!nk, Nate Ruess   0.547         0.778    0.442    -7.273\n",
      "                     Indila   0.449         0.669    0.327    -7.658\n",
      "                  Lil Tecca   0.588         0.712    0.471    -5.332\n",
      "\n",
      "Top 10 Similar Songs to: Sabrina Carpenter\n",
      "                         track_artist  energy  danceability  valence  loudness\n",
      "                    IVE, David Guetta   0.886         0.655    0.778    -5.227\n",
      "                                 Muse   0.921         0.668    0.782    -3.727\n",
      "                    Sabrina Carpenter   0.907         0.674    0.721    -4.086\n",
      "                                Simge   0.914         0.726    0.839    -4.226\n",
      "                             Dua Lipa   0.845         0.671    0.775    -4.930\n",
      "                               NAYEON   0.926         0.682    0.860    -2.515\n",
      "                         New Radicals   0.901         0.621    0.744    -5.396\n",
      "                         New Radicals   0.901         0.621    0.744    -5.396\n",
      "                        Finger Eleven   0.939         0.644    0.861    -3.486\n",
      "Gabry Ponte, Sean Paul, NATTI NATASHA   0.863         0.652    0.805    -4.853\n",
      "\n",
      "Top 10 Similar Songs to: Chappell Roan\n",
      "                track_artist  energy  danceability  valence  loudness\n",
      "               Chappell Roan   0.582         0.700    0.785    -5.960\n",
      "               Chappell Roan   0.582         0.700    0.785    -5.960\n",
      "Shawn Mendes, Camila Cabello   0.540         0.759    0.750    -6.039\n",
      "Creedence Clearwater Revival   0.697         0.741    0.774    -7.028\n",
      "                        ヨルシカ   0.571         0.695    0.726    -6.249\n",
      "         Jay Sean, Lil Wayne   0.680         0.727    0.728    -4.498\n",
      "                     Stromae   0.593         0.790    0.720    -9.204\n",
      "                     Stromae   0.593         0.790    0.720    -9.204\n",
      "                     Stromae   0.593         0.790    0.720    -9.204\n",
      "            Carly Rae Jepsen   0.580         0.782    0.660    -6.548\n"
     ]
    }
   ],
   "source": [
    "# Compute pairwise distances\n",
    "dist_matrix = euclidean_distances(scaled_features)\n",
    "\n",
    "# Find top 10 most similar tracks for each query (excluding itself)\n",
    "similar_tracks = {}\n",
    "for idx in query_indices:\n",
    "    distances = dist_matrix[idx]\n",
    "    similar_indices = np.argsort(distances)[1:11]  # skip index 0 (itself)\n",
    "    similar_tracks[idx] = spotify_df_scaled.iloc[similar_indices][[\"track_artist\", \"energy\", \"danceability\", \"valence\", \"loudness\"]]\n",
    "\n",
    "# Package the results for display\n",
    "query_results = {\n",
    "    spotify_df_scaled.iloc[idx][\"track_artist\"]: similar_tracks[idx].reset_index(drop=True)\n",
    "    for idx in query_indices\n",
    "}\n",
    "for query_idx in query_indices:\n",
    "    query_artist = spotify_df_scaled.iloc[query_idx][\"track_artist\"]\n",
    "    print(f\"\\nTop 10 Similar Songs to: {query_artist}\")\n",
    "    print(similar_tracks[query_idx][[\"track_artist\", \"energy\", \"danceability\", \"valence\", \"loudness\"]].to_string(index=False))\n",
    "\n"
   ]
  }
 ],
 "metadata": {
  "kernelspec": {
   "display_name": "Python 3",
   "language": "python",
   "name": "python3"
  },
  "language_info": {
   "codemirror_mode": {
    "name": "ipython",
    "version": 3
   },
   "file_extension": ".py",
   "mimetype": "text/x-python",
   "name": "python",
   "nbconvert_exporter": "python",
   "pygments_lexer": "ipython3",
   "version": "3.11.9"
  }
 },
 "nbformat": 4,
 "nbformat_minor": 2
}
